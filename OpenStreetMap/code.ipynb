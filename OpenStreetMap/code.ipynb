{
 "cells": [
  {
   "cell_type": "markdown",
   "metadata": {},
   "source": [
    "## 地图区域\n",
    "\n",
    "格拉斯哥\n"
   ]
  },
  {
   "cell_type": "markdown",
   "metadata": {},
   "source": [
    "## 地图数据统计\n",
    "\n",
    "#### 根节点tag统计"
   ]
  },
  {
   "cell_type": "code",
   "execution_count": 4,
   "metadata": {},
   "outputs": [],
   "source": [
    "import xml.etree.cElementTree as ET\n",
    "from collections import Counter\n",
    "from collections import defaultdict\n",
    "import re\n",
    "import codecs\n",
    "import csv\n",
    "\n",
    "filename=r'd:\\udacity\\Glasgow.osm'\n",
    "def count_tags(filename):\n",
    "    data=[]\n",
    "    for _,tree in ET.iterparse(filename,events=('start',)):\n",
    "        data.append(tree.tag)\n",
    "    return Counter(data)"
   ]
  },
  {
   "cell_type": "markdown",
   "metadata": {},
   "source": [
    "{'nd': 562843, 'node': 493780, 'tag': 320815, 'way': 80094, 'member': 24036, 'relation': 1010, 'bounds': 1, 'osm': 1}"
   ]
  },
  {
   "cell_type": "code",
   "execution_count": null,
   "metadata": {},
   "outputs": [],
   "source": []
  },
  {
   "cell_type": "markdown",
   "metadata": {},
   "source": [
    "#### 检查k值标签，是否存在有问题的字符"
   ]
  },
  {
   "cell_type": "code",
   "execution_count": 5,
   "metadata": {},
   "outputs": [],
   "source": [
    "NODES_PATH = \"d:\\\\nodes.csv\"  #node标签生成的文件名\n",
    "NODE_TAGS_PATH = \"d:\\\\nodes_tags.csv\"  #node下的tag标签生成的文件名\n",
    "WAYS_PATH = \"d:\\\\ways.csv\"  #way标签生成的文件名\n",
    "WAY_NODES_PATH = \"d:\\\\ways_nodes.csv\" #way标签下的node生成的文件名\n",
    "WAY_TAGS_PATH = \"d:\\\\ways_tags.csv\" #way标签下的tag生成的文件名\n",
    "\n",
    "#“lower”，表示仅包含小写字母且有效的标记，\n",
    "#“lower_colon”，表示名称中有冒号的其他有效标记，\n",
    "#“problemchars”，表示字符存在问题的标记。\n",
    "#“other”，表示不属于上述三大类别的其他标记。\n",
    "\n",
    "lower = re.compile(r'^([a-z]|_)*$')\n",
    "lower_colon = re.compile(r'^([a-z]|_)*:([a-z]|_)*$')\n",
    "problemchars = re.compile(r'[=\\+/&<>;\\'\"\\?%#$@\\,\\. \\t\\r\\n]')\n",
    "def key_type(element,keys):\n",
    "    if element.tag=='tag':\n",
    "        if re.search(lower, element.attrib['k']):\n",
    "            keys['lower']+=1\n",
    "        elif re.search(lower_colon, element.attrib['k']):\n",
    "            keys['lower_colon']+=1\n",
    "        elif re.search(problemchars,element.attrib['k']):\n",
    "            keys['problemchars']+=1\n",
    "        else:\n",
    "            keys['other']+=1\n",
    "    return keys\n",
    "\n",
    "def process_map(filename):\n",
    "    keys = {\"lower\": 0, \"lower_colon\": 0, \"problemchars\": 0, \"other\": 0}\n",
    "    for _, element in ET.iterparse(filename):\n",
    "        keys = key_type(element, keys)\n",
    "\n",
    "    return keys"
   ]
  },
  {
   "cell_type": "code",
   "execution_count": 6,
   "metadata": {},
   "outputs": [
    {
     "name": "stdout",
     "output_type": "stream",
     "text": [
      "{'problemchars': 0, 'lower': 276700, 'other': 20718, 'lower_colon': 23397}\n"
     ]
    }
   ],
   "source": [
    "print process_map(filename)"
   ]
  },
  {
   "cell_type": "code",
   "execution_count": null,
   "metadata": {},
   "outputs": [],
   "source": []
  },
  {
   "cell_type": "markdown",
   "metadata": {},
   "source": [
    "#### 完善街道名,将街道中的一些不合法的值去除"
   ]
  },
  {
   "cell_type": "markdown",
   "metadata": {},
   "source": [
    "<font color=#0C3A6B>1. 提取所有街道名</font>"
   ]
  },
  {
   "cell_type": "code",
   "execution_count": 7,
   "metadata": {},
   "outputs": [
    {
     "name": "stdout",
     "output_type": "stream",
     "text": [
      "set(['', 'Court', 'Rigg', 'West', 'Candleriggs', 'Cross', 'Rd', 'street', 'Way', 'Gate', 'Dovehill', 'Quay', 'Gallowgate', 'Road,', 'Park', 'Strret', 'bank', 'Path', 'Bridgegate', 'Drygate', 'Crescent', 'Lane', 'Sreet', 'Roystonhill', 'Drive', 'St', 'downi', 'Broomielaw', 'Wharf', 'Place', 'Brae', 'Close', 'North', 'Saltmarket', 'Gardens', 'Road', 'Square', 'Parade', 'Estate', 'Circus', 'Craigpark', 'Wynd', 'Walk', 'Street', 'Trongate', 'Terrace', 'Green', 'Westercraigs', 'Avenue', 'road', 'Row'])\n"
     ]
    }
   ],
   "source": [
    "def is_street_name(elem):\n",
    "    return (elem.attrib['k'] == \"addr:street\")\n",
    "\n",
    "def street_name_set(osm_file):\n",
    "    streets = set()\n",
    "    for event, elem in ET.iterparse(osm_file, events=(\"start\",)):\n",
    "        if elem.tag == 'way' or elem.tag == 'node':\n",
    "            for tag in elem.iter('tag'):\n",
    "                if is_street_name(tag):\n",
    "                    streets.add(tag.attrib['v'].split(' ')[-1])\n",
    "    return streets\n",
    "\n",
    "print street_name_set(filename)"
   ]
  },
  {
   "cell_type": "markdown",
   "metadata": {},
   "source": [
    "<font color=#0C3A6B>2. 检查所有街道名，发现以下错误    \n",
    "      \n",
    " (1)使用缩写  \n",
    " (2)首字母未大写  \n",
    " (3)拼写错误 <font>"
   ]
  },
  {
   "cell_type": "code",
   "execution_count": 8,
   "metadata": {},
   "outputs": [],
   "source": [
    "street_type_re = re.compile(r'\\b\\S+\\.?$', re.IGNORECASE)\n",
    "expected = [ 'Court', 'Rigg', 'West', 'Candleriggs', 'Cross', 'Rd', 'street', 'Way', 'Gate', 'Dovehill', 'Quay', \n",
    "            'Gallowgate', 'Road,', 'Park', 'Path', 'Bridgegate', 'Drygate', 'Crescent', 'Lane', \n",
    "            'Roystonhill', 'Drive', 'Broomielaw', 'Wharf', 'Place', 'Brae', 'Close', 'North', 'Saltmarket', \n",
    "            'Gardens', 'Road', 'Square', 'Parade', 'Estate', 'Circus', 'Craigpark', 'Wynd', 'Walk', 'Street', 'Trongate', \n",
    "            'Terrace', 'Green', 'Westercraigs', 'Avenue', 'Row']\n",
    "mapping = { \"St\": \"Street\", \"Rd\": \"Road\", \"street\": \"Street\", \"Strret\":\"Street\", \"bank\": \"Bank\",\"Sreet\": \"Street\",\n",
    "           \"road\": \"Road\",\"downi\":\"Downy\"}\n",
    "def audit_street_type(street_types, street_name):\n",
    "    m=street_type_re.search(street_name)\n",
    "    if m:\n",
    "        street_type=m.group()\n",
    "        if street_type not in expected:\n",
    "            street_types[street_type].add(street_name)\n",
    "            \n",
    "\n",
    "\n",
    "def audit(osmfile):\n",
    "    osm_file = open(osmfile, \"r\")\n",
    "    street_types = defaultdict(set)\n",
    "    for event, elem in ET.iterparse(osm_file, events=(\"start\",)):\n",
    "\n",
    "        if elem.tag == \"node\" or elem.tag == \"way\":\n",
    "            for tag in elem.iter(\"tag\"):\n",
    "                if is_street_name(tag):\n",
    "                    audit_street_type(street_types, tag.attrib['v'])\n",
    "    osm_file.close()\n",
    "    return street_types\n",
    "\n",
    "def update_name(name, mapping):\n",
    "    if re.search(street_type_re,name):\n",
    "        mapped=name.split(' ')\n",
    "        mapped[-1]=mapping[mapped[-1]]\n",
    "        for i in range(len(mapped)):\n",
    "            mapped[i]=mapped[i].capitalize()\n",
    "        name=' '.join(mapped)\n",
    "    return name"
   ]
  },
  {
   "cell_type": "code",
   "execution_count": 9,
   "metadata": {},
   "outputs": [
    {
     "name": "stdout",
     "output_type": "stream",
     "text": [
      "defaultdict(<type 'set'>, {'Sreet': set(['Springbank Sreet']), 'St': set(['Ardgay St']), 'downi': set(['downi']), 'Strret': set(['Garfield Strret']), 'road': set(['pollokshaws road', 'Marihill road']), 'bank': set(['canal bank'])})\n"
     ]
    }
   ],
   "source": [
    "st_types=audit(filename)\n",
    "print st_types"
   ]
  },
  {
   "cell_type": "markdown",
   "metadata": {},
   "source": [
    "<font color=#0C3A6B>3. 列出改动内容<font>"
   ]
  },
  {
   "cell_type": "code",
   "execution_count": 10,
   "metadata": {},
   "outputs": [
    {
     "name": "stdout",
     "output_type": "stream",
     "text": [
      "Springbank Sreet => Springbank Street\n",
      "Ardgay St => Ardgay Street\n",
      "downi => Downy\n",
      "Garfield Strret => Garfield Street\n",
      "pollokshaws road => Pollokshaws Road\n",
      "Marihill road => Marihill Road\n",
      "canal bank => Canal Bank\n"
     ]
    }
   ],
   "source": [
    "name_maping={}\n",
    "for st_type, ways in st_types.iteritems():\n",
    "        for name in ways:\n",
    "            better_name = update_name(name, mapping)\n",
    "            name_maping[name]=better_name\n",
    "            print name, \"=>\", better_name"
   ]
  },
  {
   "cell_type": "markdown",
   "metadata": {},
   "source": [
    "<font color=#0C3A6B>4. 将改动内容写入<font>"
   ]
  },
  {
   "cell_type": "code",
   "execution_count": 21,
   "metadata": {
    "collapsed": true
   },
   "outputs": [],
   "source": [
    "def fix_name(name):\n",
    "    if name in name_maping.keys():\n",
    "        return name_maping[name]\n",
    "    else:\n",
    "        return name\n",
    "                    \n",
    "                    "
   ]
  },
  {
   "cell_type": "markdown",
   "metadata": {},
   "source": [
    "#### 分割数据并清洗数据，并将数据写入CSV文件"
   ]
  },
  {
   "cell_type": "code",
   "execution_count": 22,
   "metadata": {
    "collapsed": true
   },
   "outputs": [],
   "source": [
    "#处理类型字段\n",
    "def check_type(value):\n",
    "    colon = lower_colon.search(value)\n",
    "    problem = problemchars.search(value)\n",
    "    if colon:\n",
    "        return [value.split(':')[0],':'.join(value.split(':')[1:])]\n",
    "    elif problem:\n",
    "        return None\n",
    "    else:\n",
    "        return ['regular',value]"
   ]
  },
  {
   "cell_type": "code",
   "execution_count": 27,
   "metadata": {
    "collapsed": true
   },
   "outputs": [],
   "source": [
    "NODE_FIELDS = ['id', 'lat', 'lon', 'user', 'uid', 'version', 'changeset', 'timestamp']\n",
    "NODE_TAGS_FIELDS = ['id', 'key', 'value', 'type']\n",
    "WAY_FIELDS = ['id', 'user', 'uid', 'version', 'changeset', 'timestamp']\n",
    "WAY_TAGS_FIELDS = ['id', 'key', 'value', 'type']\n",
    "WAY_NODES_FIELDS = ['id', 'node_id', 'position']\n",
    "\n",
    "def shape_element(element, node_attr_fields=NODE_FIELDS, way_attr_fields=WAY_FIELDS,\n",
    "                  problem_chars=problemchars, default_tag_type='regular'):\n",
    "    node_attribs = {}  \n",
    "    way_attribs = {}  \n",
    "    way_nodes = []    \n",
    "    tags = []\n",
    "    if element.tag=='node':\n",
    "        for key in NODE_FIELDS:\n",
    "                node_attribs[key]=element.attrib[key]\n",
    "        for child in element.iter('tag'):\n",
    "                node_tag_con={}\n",
    "                node_tag_con['id']=node_attribs['id']\n",
    "                node_tag_con['value']=fix_name(child.attrib['v'])\n",
    "                if check_type(child.attrib['k']):\n",
    "                    node_tag_con['key']=check_type(child.attrib['k'])[1]\n",
    "                    node_tag_con['type']=check_type(child.attrib['k'])[0]\n",
    "                tags.append(node_tag_con)\n",
    "        return {'node': node_attribs, 'node_tags': tags}\n",
    "    elif element.tag=='way':\n",
    "        for key in WAY_FIELDS:\n",
    "            way_attribs[key]=element.attrib[key]\n",
    "            position=0\n",
    "        for child in element.iter():\n",
    "            Way_Node_con = {} #存放nd子标签\n",
    "            Way_Tag_con = {}  #存放tag子标签\n",
    "            if child.tag=='nd':\n",
    "                Way_Node_con['id']=element.attrib['id']\n",
    "                Way_Node_con['node_id'] = child.attrib['ref']\n",
    "                Way_Node_con['position']=position\n",
    "                position+=1\n",
    "                way_nodes.append(Way_Node_con)\n",
    "            elif child.tag=='tag':\n",
    "                Way_Tag_con['id']=element.attrib['id']\n",
    "                Way_Tag_con['value']=child.attrib['v']\n",
    "                if check_type(child.attrib['k']):\n",
    "                    Way_Tag_con['key']=check_type(child.attrib['k'])[1]\n",
    "                    Way_Tag_con['type']=check_type(child.attrib['k'])[0]\n",
    "                tags.append(Way_Tag_con)\n",
    "        return {'way': way_attribs, 'way_nodes': way_nodes, 'way_tags': tags}\n",
    "                "
   ]
  },
  {
   "cell_type": "code",
   "execution_count": 28,
   "metadata": {
    "collapsed": true
   },
   "outputs": [],
   "source": [
    "def get_element(osm_file, tags=('node', 'way', 'relation')):\n",
    "    \"\"\"Yield element if it is the right type of tag\"\"\"\n",
    "\n",
    "    context = ET.iterparse(osm_file, events=('start', 'end'))\n",
    "    _, root = next(context)\n",
    "    for event, elem in context:\n",
    "        if event == 'end' and elem.tag in tags:\n",
    "            yield elem\n",
    "            root.clear()\n",
    "\n",
    "class UnicodeDictWriter(csv.DictWriter, object):\n",
    "    \"\"\"Extend csv.DictWriter to handle Unicode input\"\"\"\n",
    "\n",
    "    def writerow(self, row):\n",
    "        super(UnicodeDictWriter, self).writerow({\n",
    "            k: (v.encode('utf-8') if isinstance(v, unicode) else v) for k, v in row.iteritems()\n",
    "        })\n",
    "\n",
    "    def writerows(self, rows):\n",
    "        for row in rows:\n",
    "            self.writerow(row)"
   ]
  },
  {
   "cell_type": "code",
   "execution_count": 29,
   "metadata": {
    "collapsed": true
   },
   "outputs": [],
   "source": [
    "def process_map(file_in):\n",
    "    \"\"\"Iteratively process each XML element and write to csv(s)\"\"\"\n",
    "\n",
    "    with codecs.open(NODES_PATH, 'w') as nodes_file, \\\n",
    "         codecs.open(NODE_TAGS_PATH, 'w') as nodes_tags_file, \\\n",
    "         codecs.open(WAYS_PATH, 'w') as ways_file, \\\n",
    "         codecs.open(WAY_NODES_PATH, 'w') as way_nodes_file, \\\n",
    "         codecs.open(WAY_TAGS_PATH, 'w') as way_tags_file:\n",
    "\n",
    "        nodes_writer = UnicodeDictWriter(nodes_file, NODE_FIELDS)\n",
    "        node_tags_writer = UnicodeDictWriter(nodes_tags_file, NODE_TAGS_FIELDS)\n",
    "        ways_writer = UnicodeDictWriter(ways_file, WAY_FIELDS)\n",
    "        way_nodes_writer = UnicodeDictWriter(way_nodes_file, WAY_NODES_FIELDS)\n",
    "        way_tags_writer = UnicodeDictWriter(way_tags_file, WAY_TAGS_FIELDS)\n",
    "\n",
    "        nodes_writer.writeheader()\n",
    "        node_tags_writer.writeheader()\n",
    "        ways_writer.writeheader()\n",
    "        way_nodes_writer.writeheader()\n",
    "        way_tags_writer.writeheader()\n",
    "\n",
    "        #validator = cerberus.Validator()\n",
    "\n",
    "        for element in get_element(file_in, tags=('node', 'way')):\n",
    "            try:\n",
    "                el = shape_element(element)\n",
    "            except KeyError:\n",
    "                print element.attrib.items()                          #部分项内容确实，防止报错并找出该项\n",
    "            if el:\n",
    "                if element.tag == 'node':\n",
    "                    nodes_writer.writerow(el['node'])\n",
    "                    node_tags_writer.writerows(el['node_tags'])\n",
    "                elif element.tag == 'way':\n",
    "                    ways_writer.writerow(el['way'])\n",
    "                    way_nodes_writer.writerows(el['way_nodes'])\n",
    "                    way_tags_writer.writerows(el['way_tags'])\n",
    "                    \n",
    "                    \n"
   ]
  },
  {
   "cell_type": "code",
   "execution_count": 30,
   "metadata": {
    "scrolled": true
   },
   "outputs": [
    {
     "name": "stdout",
     "output_type": "stream",
     "text": [
      "[('changeset', '111345'), ('timestamp', '2007-06-24T00:47:44Z'), ('lon', '-4.2694446'), ('version', '1'), ('lat', '55.8610873'), ('id', '29392055')]\n"
     ]
    }
   ],
   "source": [
    "process_map(filename)"
   ]
  }
 ],
 "metadata": {
  "kernelspec": {
   "display_name": "Python 2",
   "language": "python",
   "name": "python2"
  },
  "language_info": {
   "codemirror_mode": {
    "name": "ipython",
    "version": 2
   },
   "file_extension": ".py",
   "mimetype": "text/x-python",
   "name": "python",
   "nbconvert_exporter": "python",
   "pygments_lexer": "ipython2",
   "version": "2.7.12"
  }
 },
 "nbformat": 4,
 "nbformat_minor": 2
}
